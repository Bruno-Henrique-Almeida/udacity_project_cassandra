{
 "cells": [
  {
   "cell_type": "markdown",
   "metadata": {},
   "source": [
    "# Part I. ETL Pipeline for Pre-Processing the Files"
   ]
  },
  {
   "cell_type": "markdown",
   "metadata": {},
   "source": [
    "## PLEASE RUN THE FOLLOWING CODE FOR PRE-PROCESSING THE FILES"
   ]
  },
  {
   "cell_type": "markdown",
   "metadata": {},
   "source": [
    "#### Import Python packages "
   ]
  },
  {
   "cell_type": "code",
   "execution_count": 1,
   "metadata": {},
   "outputs": [],
   "source": [
    "import pandas as pd\n",
    "import cassandra\n",
    "import re\n",
    "import os\n",
    "import glob\n",
    "import numpy as np\n",
    "import json\n",
    "import csv"
   ]
  },
  {
   "cell_type": "markdown",
   "metadata": {},
   "source": [
    "#### Creating list of filepaths to process original event csv data files"
   ]
  },
  {
   "cell_type": "code",
   "execution_count": 2,
   "metadata": {},
   "outputs": [
    {
     "name": "stdout",
     "output_type": "stream",
     "text": [
      "/workspace/home\n"
     ]
    }
   ],
   "source": [
    "print(os.getcwd())\n",
    "\n",
    "filepath = os.getcwd() + '/event_data'\n",
    "\n",
    "for root, dirs, files in os.walk(filepath):\n",
    "    file_path_list = glob.glob(os.path.join(root,'*'))"
   ]
  },
  {
   "cell_type": "markdown",
   "metadata": {},
   "source": [
    "#### Processing the files to create the data file csv that will be used for Apache Casssandra tables"
   ]
  },
  {
   "cell_type": "code",
   "execution_count": 3,
   "metadata": {},
   "outputs": [
    {
     "name": "stdout",
     "output_type": "stream",
     "text": [
      "8056\n"
     ]
    }
   ],
   "source": [
    "full_data_rows_list = [] \n",
    "\n",
    "for f in file_path_list:\n",
    "\n",
    "    with open(f, 'r', encoding = 'utf8', newline='') as csvfile: \n",
    "        csvreader = csv.reader(csvfile) \n",
    "        next(csvreader)\n",
    "     \n",
    "        for line in csvreader:\n",
    "            full_data_rows_list.append(line) \n",
    "\n",
    "print(len(full_data_rows_list))\n",
    "\n",
    "csv.register_dialect('myDialect', quoting=csv.QUOTE_ALL, skipinitialspace=True)\n",
    "\n",
    "with open('event_datafile_new.csv', 'w', encoding = 'utf8', newline='') as f:\n",
    "    writer = csv.writer(f, dialect='myDialect')\n",
    "    writer.writerow(['artist','firstName','gender','itemInSession','lastName','length',\\\n",
    "                'level','location','sessionId','song','userId'])\n",
    "    for row in full_data_rows_list:\n",
    "        if (row[0] == ''):\n",
    "            continue\n",
    "        writer.writerow((row[0], row[2], row[3], row[4], row[5], row[6], row[7], row[8], row[12], row[13], row[16]))"
   ]
  },
  {
   "cell_type": "markdown",
   "metadata": {},
   "source": [
    "### check the number of rows in your csv file"
   ]
  },
  {
   "cell_type": "code",
   "execution_count": 4,
   "metadata": {},
   "outputs": [
    {
     "name": "stdout",
     "output_type": "stream",
     "text": [
      "6821\n"
     ]
    }
   ],
   "source": [
    "with open('event_datafile_new.csv', 'r', encoding = 'utf8') as f:\n",
    "    print(sum(1 for line in f))"
   ]
  },
  {
   "cell_type": "markdown",
   "metadata": {},
   "source": [
    "# Part II. Complete the Apache Cassandra coding portion of your project. \n",
    "\n",
    "## Now you are ready to work with the CSV file titled <font color=red>event_datafile_new.csv</font>, located within the Workspace directory.  The event_datafile_new.csv contains the following columns: \n",
    "- artist \n",
    "- firstName of user\n",
    "- gender of user\n",
    "- item number in session\n",
    "- last name of user\n",
    "- length of the song\n",
    "- level (paid or free song)\n",
    "- location of the user\n",
    "- sessionId\n",
    "- song title\n",
    "- userId\n",
    "\n",
    "The image below is a screenshot of what the denormalized data should appear like in the <font color=red>**event_datafile_new.csv**</font> after the code above is run:<br>\n",
    "\n",
    "<img src=\"images/image_event_datafile_new.jpg\">"
   ]
  },
  {
   "cell_type": "markdown",
   "metadata": {},
   "source": [
    "## Begin writing your Apache Cassandra code in the cells below"
   ]
  },
  {
   "cell_type": "markdown",
   "metadata": {},
   "source": [
    "#### Creating a Cluster"
   ]
  },
  {
   "cell_type": "code",
   "execution_count": 5,
   "metadata": {},
   "outputs": [],
   "source": [
    "from cassandra.cluster import Cluster\n",
    "cluster = Cluster()\n",
    "\n",
    "session = cluster.connect()\n",
    "\n",
    "session.execute('''\n",
    "        CREATE KEYSPACE IF NOT EXISTS udacity\n",
    "        WITH REPLICATION = {'class' : 'SimpleStrategy', 'replication_factor' : 1}\n",
    "    ''')\n",
    "\n",
    "session = cluster.connect('udacity')"
   ]
  },
  {
   "cell_type": "markdown",
   "metadata": {},
   "source": [
    "### Now we need to create tables to run the following queries. Remember, with Apache Cassandra you model the database tables on the queries you want to run."
   ]
  },
  {
   "cell_type": "code",
   "execution_count": 25,
   "metadata": {},
   "outputs": [],
   "source": [
    "def execute_query(session, query, fetch=False):\n",
    "    try:\n",
    "        result = session.execute(query)\n",
    "        if fetch:\n",
    "            rows = list(result)\n",
    "            if rows:\n",
    "                for row in rows:\n",
    "                    print(row)\n",
    "            else:\n",
    "                print(\"No results found\")\n",
    "        return result\n",
    "    except Exception as e:\n",
    "        print(f'Error executing query: {e}')\n",
    "        raise\n",
    "\n",
    "def insert_data(file_path, table, columns, data_mapper):\n",
    "    with open(file_path, encoding='utf-8') as f:\n",
    "        csvreader = csv.reader(f)\n",
    "        next(csvreader)\n",
    "\n",
    "        columns_list = [col.strip() for col in columns.split(',')]\n",
    "        placeholders = ', '.join(['?'] * len(columns.split(',')))\n",
    "        query = f'INSERT INTO {table} ({columns}) VALUES ({placeholders})'\n",
    "        query = session.prepare(query)\n",
    "\n",
    "        row_count = 0\n",
    "        for line in csvreader:\n",
    "            try:\n",
    "                values = data_mapper(line)\n",
    "                session.execute(query, values)\n",
    "                row_count += 1\n",
    "            except Exception as e:\n",
    "                print(f'Error inserting row: {e}')\n",
    "                continue\n",
    "\n",
    "        print(f'Successfully inserted {row_count} rows into {table}')\n",
    "\n",
    "file_path = 'event_datafile_new.csv'"
   ]
  },
  {
   "cell_type": "markdown",
   "metadata": {},
   "source": [
    "# 1. Table Name: sessions_songs\n",
    "**Purpose:**\n",
    "\n",
    "This table is designed to answer Query 1\n",
    "To retrieve the artist, song title and song's length based on sessionId and itemInSession\n",
    "\n",
    "**Primary Key:**\n",
    "\n",
    "* Partition Key: ```sessionId``` (Used to partition data by the session identifier)\n",
    "* Clustering Key: ```itemInSession``` (Ensures uniqueness and orders songs within a session)"
   ]
  },
  {
   "cell_type": "code",
   "execution_count": 16,
   "metadata": {},
   "outputs": [
    {
     "name": "stdout",
     "output_type": "stream",
     "text": [
      "Successfully inserted 6820 rows into udacity.sessions_songs\n"
     ]
    }
   ],
   "source": [
    "# TABLE 1: sessions_songs\n",
    "query_sessions_songs = '''\n",
    "    CREATE TABLE IF NOT EXISTS udacity.sessions_songs (\n",
    "        sessionId     INT,\n",
    "        itemInSession SMALLINT,\n",
    "        artist        TEXT,\n",
    "        length        DECIMAL,\n",
    "        song          TEXT,\n",
    "        PRIMARY KEY (sessionId, itemInSession)\n",
    "    );\n",
    "'''\n",
    "\n",
    "execute_query(session=session, query=query_sessions_songs)\n",
    "\n",
    "insert_data(\n",
    "    file_path=file_path,\n",
    "    table='udacity.sessions_songs',\n",
    "    columns='sessionId, itemInSession, artist, length, song',\n",
    "    data_mapper=lambda line: (\n",
    "        int(line[8]),   # sessionId\n",
    "        int(line[3]),   # itemInSession\n",
    "        line[0],        # artist\n",
    "        float(line[5]), # length\n",
    "        line[9]         # song\n",
    "        )\n",
    "    )"
   ]
  },
  {
   "cell_type": "markdown",
   "metadata": {},
   "source": [
    "# 2. Table Name: user_sessions_songs\n",
    "**Purpose:**\n",
    "\n",
    "This table is designed to answer Query 2.\n",
    "To retrieve the name of artist, song (sorted by itemInSession) and user (first and last name) for a specific userId and sessionId.\n",
    "\n",
    "**Primary Key:**\n",
    "\n",
    "* Partition Key: ```(userId, sessionId)``` (Composite partition key to distribute data by user and session combination).\n",
    "* Clustering Key: ```itemInSession``` (Orders songs by their sequence in the session)."
   ]
  },
  {
   "cell_type": "code",
   "execution_count": 17,
   "metadata": {},
   "outputs": [
    {
     "name": "stdout",
     "output_type": "stream",
     "text": [
      "Successfully inserted 6820 rows into udacity.user_sessions_songs\n"
     ]
    }
   ],
   "source": [
    "# TABLE 2: user_sessions_songs\n",
    "query_user_sessions_songs = '''\n",
    "    CREATE TABLE IF NOT EXISTS udacity.user_sessions_songs (\n",
    "        userId        INT,\n",
    "        sessionId     INT,\n",
    "        itemInSession SMALLINT,\n",
    "        artist        TEXT,\n",
    "        song          TEXT,\n",
    "        firstName     TEXT,\n",
    "        lastName      TEXT,\n",
    "        PRIMARY KEY ((userId, sessionId), itemInSession)\n",
    "    );\n",
    "'''\n",
    "\n",
    "execute_query(session=session, query=query_user_sessions_songs)\n",
    "\n",
    "insert_data(\n",
    "    file_path=file_path,\n",
    "    table='udacity.user_sessions_songs',\n",
    "    columns='userId, sessionId, itemInSession, artist, song, firstName, lastName',\n",
    "    data_mapper=lambda line: (\n",
    "            int(line[10]), # userId\n",
    "            int(line[8]),  # sessionId\n",
    "            int(line[3]),  # itemInSession\n",
    "            line[0],       # artist\n",
    "            line[9],       # song\n",
    "            line[1],       # firstName\n",
    "            line[4]        # lastName\n",
    "        )\n",
    "    )"
   ]
  },
  {
   "cell_type": "markdown",
   "metadata": {},
   "source": [
    "# 3. Table Name: song_listeners\n",
    "**Purpose:**\n",
    "\n",
    "This table is designed to answer Query 3.\n",
    "To retrieve every user name (first and last) who listened to a specific song.\n",
    "\n",
    "**Primary Key:**\n",
    "\n",
    "* Partition Key: ```song``` (Used to partition data by song title).\n",
    "* Clustering Key: ```userId``` (Ensures uniqueness - one row per user per song)."
   ]
  },
  {
   "cell_type": "code",
   "execution_count": 18,
   "metadata": {},
   "outputs": [
    {
     "name": "stdout",
     "output_type": "stream",
     "text": [
      "Successfully inserted 6820 rows into udacity.song_listeners\n"
     ]
    }
   ],
   "source": [
    "# TABLE 3: song_listeners\n",
    "query_song_listeners = '''\n",
    "    CREATE TABLE IF NOT EXISTS udacity.song_listeners (\n",
    "        song          TEXT,\n",
    "        userId        INT,\n",
    "        firstName     TEXT,\n",
    "        lastName      TEXT,\n",
    "        artist        TEXT,\n",
    "        PRIMARY KEY (song, userId)\n",
    "    );\n",
    "    '''\n",
    "\n",
    "execute_query(session=session, query=query_song_listeners)\n",
    "\n",
    "insert_data(\n",
    "    file_path=file_path,\n",
    "    table='udacity.song_listeners',\n",
    "    columns='userId, song, firstName, lastName, artist',\n",
    "    data_mapper=lambda line: (\n",
    "            int(line[10]), # userId\n",
    "            line[9],       # song\n",
    "            line[1],       # firstName\n",
    "            line[4],       # lastName\n",
    "            line[0]        # artist\n",
    "        )\n",
    "    )"
   ]
  },
  {
   "cell_type": "markdown",
   "metadata": {},
   "source": [
    "#### Do a SELECT to verify that the data have been inserted into each table"
   ]
  },
  {
   "cell_type": "code",
   "execution_count": 26,
   "metadata": {
    "scrolled": true
   },
   "outputs": [
    {
     "name": "stdout",
     "output_type": "stream",
     "text": [
      "\n",
      "=== Query 1: Sessions Songs ===\n",
      "Row(sessionid=23, iteminsession=0, artist='Regina Spektor', length=Decimal('191.08526000000000522049958817660808563232421875'), song='The Calculation (Album Version)')\n",
      "\n",
      "=== Query 2: User Sessions Songs ===\n",
      "Row(userid=58, sessionid=768, iteminsession=0, artist='System of a Down', firstname='Emily', lastname='Benson', song='Sad Statue')\n",
      "\n",
      "=== Query 3: Song Listeners ===\n",
      "Row(song=\"Wonder What's Next\", userid=49, artist='Chevelle', firstname='Chloe', lastname='Cuevas')\n"
     ]
    },
    {
     "data": {
      "text/plain": [
       "<cassandra.cluster.ResultSet at 0x7c91512997f0>"
      ]
     },
     "execution_count": 26,
     "metadata": {},
     "output_type": "execute_result"
    }
   ],
   "source": [
    "print(\"\\n=== Query 1: Sessions Songs ===\")\n",
    "execute_query(session=session, query='SELECT * FROM udacity.sessions_songs LIMIT 1', fetch=True)\n",
    "\n",
    "print(\"\\n=== Query 2: User Sessions Songs ===\")\n",
    "execute_query(session=session, query='SELECT * FROM udacity.user_sessions_songs LIMIT 1', fetch=True)\n",
    "\n",
    "print(\"\\n=== Query 3: Song Listeners ===\")\n",
    "execute_query(session=session, query='SELECT * FROM udacity.song_listeners LIMIT 1', fetch=True)"
   ]
  },
  {
   "cell_type": "markdown",
   "metadata": {},
   "source": [
    "## Create queries to ask the following three questions of the data\n",
    "\n"
   ]
  },
  {
   "cell_type": "code",
   "execution_count": 27,
   "metadata": {},
   "outputs": [
    {
     "name": "stdout",
     "output_type": "stream",
     "text": [
      "\n",
      "\n",
      "=== QUERY 1: Get artist, song title and length for sessionId=338, itemInSession=4 ===\n",
      "Row(artist='Faithless', song='Music Matters (Mark Knight Dub)', length=Decimal('495.30729999999999790816218592226505279541015625'))\n"
     ]
    },
    {
     "data": {
      "text/plain": [
       "<cassandra.cluster.ResultSet at 0x7c91512050b8>"
      ]
     },
     "execution_count": 27,
     "metadata": {},
     "output_type": "execute_result"
    }
   ],
   "source": [
    "# 1. Give me the artist, song title and song's length in the music app history that was heard during  sessionId = 338, and itemInSession  = 4\n",
    "print(\"\\n\\n=== QUERY 1: Get artist, song title and length for sessionId=338, itemInSession=4 ===\")\n",
    "execute_query(\n",
    "    session=session,\n",
    "    query='''\n",
    "        SELECT\n",
    "            artist,\n",
    "            song,\n",
    "            length\n",
    "        FROM\n",
    "            udacity.sessions_songs\n",
    "        WHERE\n",
    "            sessionid = 338\n",
    "            AND iteminsession = 4;\n",
    "    ''',\n",
    "    fetch=True\n",
    "    )"
   ]
  },
  {
   "cell_type": "code",
   "execution_count": 28,
   "metadata": {},
   "outputs": [
    {
     "name": "stdout",
     "output_type": "stream",
     "text": [
      "\n",
      "\n",
      "=== QUERY 2: Get artist, song, user info for userId=10, sessionId=182 (sorted by itemInSession) ===\n",
      "Row(artist='Down To The Bone', song=\"Keep On Keepin' On\", firstname='Sylvie', lastname='Cruz')\n",
      "Row(artist='Three Drives', song='Greece 2000', firstname='Sylvie', lastname='Cruz')\n",
      "Row(artist='Sebastien Tellier', song='Kilometer', firstname='Sylvie', lastname='Cruz')\n",
      "Row(artist='Lonnie Gordon', song='Catch You Baby (Steve Pitron & Max Sanna Radio Edit)', firstname='Sylvie', lastname='Cruz')\n"
     ]
    },
    {
     "data": {
      "text/plain": [
       "<cassandra.cluster.ResultSet at 0x7c915129c390>"
      ]
     },
     "execution_count": 28,
     "metadata": {},
     "output_type": "execute_result"
    }
   ],
   "source": [
    "# 2. Give me only the following: name of artist, song (sorted by itemInSession) and user (first and last name) for userid = 10, sessionid = 182\n",
    "print(\"\\n\\n=== QUERY 2: Get artist, song, user info for userId=10, sessionId=182 (sorted by itemInSession) ===\")\n",
    "execute_query(\n",
    "    session=session,\n",
    "    query='''\n",
    "        SELECT\n",
    "            artist,\n",
    "            song,\n",
    "            firstname,\n",
    "            lastname\n",
    "        FROM\n",
    "            udacity.user_sessions_songs\n",
    "        WHERE\n",
    "            userid = 10\n",
    "            AND sessionid = 182\n",
    "        ORDER BY\n",
    "            iteminsession;\n",
    "    ''',\n",
    "    fetch=True\n",
    "    )"
   ]
  },
  {
   "cell_type": "code",
   "execution_count": 29,
   "metadata": {},
   "outputs": [
    {
     "name": "stdout",
     "output_type": "stream",
     "text": [
      "\n",
      "\n",
      "=== QUERY 3: Get all users who listened to 'All Hands Against His Own' ===\n",
      "Row(userid=29, song='All Hands Against His Own', firstname='Jacqueline', lastname='Lynch')\n",
      "Row(userid=80, song='All Hands Against His Own', firstname='Tegan', lastname='Levine')\n",
      "Row(userid=95, song='All Hands Against His Own', firstname='Sara', lastname='Johnson')\n"
     ]
    },
    {
     "data": {
      "text/plain": [
       "<cassandra.cluster.ResultSet at 0x7c9100943dd8>"
      ]
     },
     "execution_count": 29,
     "metadata": {},
     "output_type": "execute_result"
    }
   ],
   "source": [
    "# 3. Give me every user name (first and last) in my music app history who listened to the song 'All Hands Against His Own'\n",
    "print(\"\\n\\n=== QUERY 3: Get all users who listened to 'All Hands Against His Own' ===\")\n",
    "execute_query(\n",
    "    session=session,\n",
    "    query='''\n",
    "        SELECT\n",
    "            userId,\n",
    "            song,\n",
    "            firstname,\n",
    "            lastname\n",
    "        FROM\n",
    "            udacity.song_listeners\n",
    "        WHERE\n",
    "            song = 'All Hands Against His Own';\n",
    "    ''',\n",
    "    fetch=True\n",
    "    )"
   ]
  },
  {
   "cell_type": "markdown",
   "metadata": {},
   "source": [
    "### Drop the tables before closing out the sessions"
   ]
  },
  {
   "cell_type": "code",
   "execution_count": 30,
   "metadata": {},
   "outputs": [
    {
     "data": {
      "text/plain": [
       "<cassandra.cluster.ResultSet at 0x7c9151200470>"
      ]
     },
     "execution_count": 30,
     "metadata": {},
     "output_type": "execute_result"
    }
   ],
   "source": [
    "execute_query(session=session,query='DROP TABLE IF EXISTS udacity.sessions_songs;')\n",
    "\n",
    "execute_query(session=session,query='DROP TABLE IF EXISTS udacity.user_sessions_songs;')\n",
    "\n",
    "execute_query(session=session,query='DROP TABLE IF EXISTS udacity.song_listeners;')"
   ]
  },
  {
   "cell_type": "markdown",
   "metadata": {},
   "source": [
    "### Close the session and cluster connection¶"
   ]
  },
  {
   "cell_type": "code",
   "execution_count": 96,
   "metadata": {},
   "outputs": [],
   "source": [
    "session.shutdown()\n",
    "cluster.shutdown()"
   ]
  }
 ],
 "metadata": {
  "kernelspec": {
   "display_name": "Python 3",
   "language": "python",
   "name": "python3"
  },
  "language_info": {
   "codemirror_mode": {
    "name": "ipython",
    "version": 3
   },
   "file_extension": ".py",
   "mimetype": "text/x-python",
   "name": "python",
   "nbconvert_exporter": "python",
   "pygments_lexer": "ipython3",
   "version": "3.6.3"
  }
 },
 "nbformat": 4,
 "nbformat_minor": 2
}
